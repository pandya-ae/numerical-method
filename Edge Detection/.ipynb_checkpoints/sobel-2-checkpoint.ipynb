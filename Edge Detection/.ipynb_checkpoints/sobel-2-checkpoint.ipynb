{
 "cells": [
  {
   "cell_type": "code",
   "execution_count": null,
   "metadata": {},
   "outputs": [],
   "source": [
    "import numpy as np\n",
    "from PIL import Image\n",
    "import matplotlib.pyplot as plt\n",
    "\n",
    "# Open the image\n",
    "img = np.array(Image.open('rubik.jpg')).astype(np.uint8)\n",
    "\n",
    "# Sobel Operator\n",
    "h, w, d = img.shape\n",
    "\n",
    "# define filters\n",
    "horizontal = np.array([[-1, 0, 1], [-2, 0, 2], [-1, 0, 1]])  # s2\n",
    "vertical = np.array([[-1, -2, -1], [0, 0, 0], [1, 2, 1]])  # s1\n",
    "\n",
    "# define images with 0s\n",
    "newgradientImage = np.zeros((h, w, d))\n",
    "\n",
    "# offset by 1\n",
    "for channel in range(d):\n",
    "    for i in range(1, h - 1):\n",
    "        for j in range(1, w - 1):\n",
    "            horizontalGrad = (horizontal[0, 0] * img[i - 1, j - 1, channel]) + \\\n",
    "                             (horizontal[0, 1] * img[i - 1, j, channel]) + \\\n",
    "                             (horizontal[0, 2] * img[i - 1, j + 1, channel]) + \\\n",
    "                             (horizontal[1, 0] * img[i, j - 1, channel]) + \\\n",
    "                             (horizontal[1, 1] * img[i, j, channel]) + \\\n",
    "                             (horizontal[1, 2] * img[i, j + 1, channel]) + \\\n",
    "                             (horizontal[2, 0] * img[i + 1, j - 1, channel]) + \\\n",
    "                             (horizontal[2, 1] * img[i + 1, j, channel]) + \\\n",
    "                             (horizontal[2, 2] * img[i + 1, j + 1, channel])\n",
    "\n",
    "            verticalGrad = (vertical[0, 0] * img[i - 1, j - 1, channel]) + \\\n",
    "                           (vertical[0, 1] * img[i - 1, j, channel]) + \\\n",
    "                           (vertical[0, 2] * img[i - 1, j + 1, channel]) + \\\n",
    "                           (vertical[1, 0] * img[i, j - 1, channel]) + \\\n",
    "                           (vertical[1, 1] * img[i, j, channel]) + \\\n",
    "                           (vertical[1, 2] * img[i, j + 1, channel]) + \\\n",
    "                           (vertical[2, 0] * img[i + 1, j - 1, channel]) + \\\n",
    "                           (vertical[2, 1] * img[i + 1, j, channel]) + \\\n",
    "                           (vertical[2, 2] * img[i + 1, j + 1, channel])\n",
    "\n",
    "            # Edge Magnitude\n",
    "            mag = np.sqrt(pow(horizontalGrad, 2.0) + pow(verticalGrad, 2.0))\n",
    "            # Avoid underflow: clip result\n",
    "            newgradientImage[i - 1, j - 1, channel] = mag\n",
    "\n",
    "# now add the images r g and b\n",
    "rgb_edge = newgradientImage[:,:,0] + newgradientImage[:,:,1] + newgradientImage[:,:,2]\n",
    "\n",
    "plt.figure()\n",
    "plt.title('rubik-sobel-2.png')\n",
    "plt.imsave('rubik-sobel-2.png', rgb_edge, cmap='gray', format='png')\n",
    "plt.imshow(rgb_edge, cmap='gray')\n",
    "plt.show()"
   ]
  },
  {
   "cell_type": "code",
   "execution_count": null,
   "metadata": {},
   "outputs": [],
   "source": []
  }
 ],
 "metadata": {
  "kernelspec": {
   "display_name": "Python 3",
   "language": "python",
   "name": "python3"
  },
  "language_info": {
   "codemirror_mode": {
    "name": "ipython",
    "version": 3
   },
   "file_extension": ".py",
   "mimetype": "text/x-python",
   "name": "python",
   "nbconvert_exporter": "python",
   "pygments_lexer": "ipython3",
   "version": "3.8.5"
  }
 },
 "nbformat": 4,
 "nbformat_minor": 4
}
